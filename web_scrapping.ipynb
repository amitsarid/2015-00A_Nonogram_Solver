{
 "cells": [
  {
   "cell_type": "markdown",
   "metadata": {},
   "source": [
    "# Imports"
   ]
  },
  {
   "cell_type": "code",
   "execution_count": 667,
   "metadata": {},
   "outputs": [],
   "source": [
    "import requests\n",
    "from IPython.display import display, Markdown\n",
    "from bs4 import BeautifulSoup\n",
    "from os import path\n",
    "from tqdm.notebook import tqdm\n",
    "from typeguard import typechecked\n",
    "import os"
   ]
  },
  {
   "cell_type": "code",
   "execution_count": 338,
   "metadata": {},
   "outputs": [],
   "source": [
    "import numpy as np\n",
    "import pandas as pd"
   ]
  },
  {
   "cell_type": "markdown",
   "metadata": {},
   "source": [
    "# Func"
   ]
  },
  {
   "cell_type": "code",
   "execution_count": 2,
   "metadata": {},
   "outputs": [],
   "source": [
    "@typechecked\n",
    "def get_page_soup(url : str):\n",
    "    page = requests.get(url)\n",
    "    if page.ok:\n",
    "        pass\n",
    "#         printmd('Page OK', color='green')\n",
    "    else:\n",
    "        printmd(f'Page not OK, code {page.status_code}', color='red')\n",
    "        raise ValueError()\n",
    "    soup = BeautifulSoup(page.content, 'html.parser')\n",
    "    return soup"
   ]
  },
  {
   "cell_type": "code",
   "execution_count": 588,
   "metadata": {},
   "outputs": [],
   "source": [
    "def get_block_sizes_from_soup_trs(soup_trs):\n",
    "    data = pd.DataFrame([[v.text for v in row.find_all('td')] for row in soup_trs])\n",
    "    if data.shape[0] < data.shape[1]:\n",
    "        data = data.T\n",
    "    data = data.apply(lambda x: ','.join(x).strip(','), axis=1)\n",
    "    data = data.apply(lambda x: [int(v) for v in x.split(',')])\n",
    "    data = list(data.values)\n",
    "    return data\n",
    "\n",
    "row_sizes = get_block_sizes_from_soup_trs(soup.find('table', id='full_cross_tbl').find('table', class_='bcross', id='cross_left').find_all('tr'))\n",
    "col_sizes = get_block_sizes_from_soup_trs(soup.find('table', id='full_cross_tbl').find('table', class_='bcross', id='cross_top').find_all('tr'))"
   ]
  },
  {
   "cell_type": "code",
   "execution_count": 688,
   "metadata": {},
   "outputs": [],
   "source": [
    "def get_data_from_puzzle_id(pid):\n",
    "    assert isinstance(pid, (int, np.int64)), 'pid must be an integer'\n",
    "    soup = get_page_soup(f'https://onlinenonograms.com/{pid}')\n",
    "    \n",
    "    row_sizes = get_block_sizes_from_soup_trs(soup.find('table', id='full_cross_tbl').find('table', class_='bcross', id='cross_left').find_all('tr'))\n",
    "    col_sizes = get_block_sizes_from_soup_trs(soup.find('table', id='full_cross_tbl').find('table', class_='bcross', id='cross_top' ).find_all('tr'))\n",
    "    \n",
    "    return row_sizes, col_sizes\n",
    "\n",
    "puzzle_data = get_data_from_puzzle_id(123)"
   ]
  },
  {
   "cell_type": "markdown",
   "metadata": {},
   "source": [
    "# Scrapping"
   ]
  },
  {
   "cell_type": "markdown",
   "metadata": {},
   "source": [
    "##### Scrape all puzzle meta data - <font color='red'>run only once<font/>"
   ]
  },
  {
   "cell_type": "code",
   "execution_count": 670,
   "metadata": {},
   "outputs": [
    {
     "ename": "AssertionError",
     "evalue": "You already have puzzle meta-data",
     "output_type": "error",
     "traceback": [
      "\u001b[0;31m---------------------------------------------------------------------------\u001b[0m",
      "\u001b[0;31mAssertionError\u001b[0m                            Traceback (most recent call last)",
      "\u001b[0;32m<ipython-input-670-61ec273a9246>\u001b[0m in \u001b[0;36m<module>\u001b[0;34m\u001b[0m\n\u001b[0;32m----> 1\u001b[0;31m \u001b[0;32massert\u001b[0m \u001b[0;32mnot\u001b[0m \u001b[0mos\u001b[0m\u001b[0;34m.\u001b[0m\u001b[0mpath\u001b[0m\u001b[0;34m.\u001b[0m\u001b[0mexists\u001b[0m\u001b[0;34m(\u001b[0m\u001b[0;34m'./puzzle_meta_data.csv'\u001b[0m\u001b[0;34m)\u001b[0m\u001b[0;34m,\u001b[0m \u001b[0;34m'You already have puzzle meta-data'\u001b[0m\u001b[0;34m\u001b[0m\u001b[0;34m\u001b[0m\u001b[0m\n\u001b[0m\u001b[1;32m      2\u001b[0m \u001b[0;34m\u001b[0m\u001b[0m\n\u001b[1;32m      3\u001b[0m \u001b[0mdf\u001b[0m \u001b[0;34m=\u001b[0m \u001b[0mpd\u001b[0m\u001b[0;34m.\u001b[0m\u001b[0mDataFrame\u001b[0m\u001b[0;34m(\u001b[0m\u001b[0mcolumns\u001b[0m\u001b[0;34m=\u001b[0m\u001b[0;34m[\u001b[0m\u001b[0;34m'puzzle_id'\u001b[0m\u001b[0;34m,\u001b[0m \u001b[0;34m'size'\u001b[0m\u001b[0;34m,\u001b[0m \u001b[0;34m'rating'\u001b[0m\u001b[0;34m]\u001b[0m\u001b[0;34m)\u001b[0m\u001b[0;34m.\u001b[0m\u001b[0mset_index\u001b[0m\u001b[0;34m(\u001b[0m\u001b[0;34m'puzzle_id'\u001b[0m\u001b[0;34m)\u001b[0m\u001b[0;34m\u001b[0m\u001b[0;34m\u001b[0m\u001b[0m\n\u001b[1;32m      4\u001b[0m \u001b[0;34m\u001b[0m\u001b[0m\n\u001b[1;32m      5\u001b[0m \u001b[0;32mfor\u001b[0m \u001b[0mpage_idx\u001b[0m \u001b[0;32min\u001b[0m \u001b[0mtqdm\u001b[0m\u001b[0;34m(\u001b[0m\u001b[0mrange\u001b[0m\u001b[0;34m(\u001b[0m\u001b[0;36m1\u001b[0m\u001b[0;34m,\u001b[0m \u001b[0;36m100\u001b[0m\u001b[0;34m)\u001b[0m\u001b[0;34m)\u001b[0m\u001b[0;34m:\u001b[0m\u001b[0;34m\u001b[0m\u001b[0;34m\u001b[0m\u001b[0m\n",
      "\u001b[0;31mAssertionError\u001b[0m: You already have puzzle meta-data"
     ]
    }
   ],
   "source": [
    "assert not os.path.exists('./puzzle_meta_data.csv'), 'You already have the puzzle meta-data.'\n",
    "\n",
    "df = pd.DataFrame(columns=['puzzle_id', 'size', 'rating']).set_index('puzzle_id')\n",
    "\n",
    "for page_idx in tqdm(range(1, 100)):\n",
    "    soup = get_page_soup(f'https://onlinenonograms.com/index.php?place=catalog&kat=0&color=bw&size=&star=&filtr=all&sort=sortstard&noset=2&page={page_idx}')\n",
    "    for puzzle_div in soup.find_all('div', class_='catitem'):\n",
    "        puzzle_div = puzzle_div.find('div')\n",
    "        p_size, p_id = puzzle_div.text.split('#', 1)\n",
    "        p_size = p_size.strip()\n",
    "        p_id = int(p_id.strip())\n",
    "        p_rating = int(puzzle_div.find('img', title='Rating')['src'].rsplit('/', 1)[-1].split('.', 1)[0])\n",
    "\n",
    "        df.loc[p_id] = [p_size, p_rating]\n",
    "\n",
    "df.to_csv('./puzzle_meta_data.csv')"
   ]
  },
  {
   "cell_type": "markdown",
   "metadata": {},
   "source": [
    "##### Load exising puzzle meta data"
   ]
  },
  {
   "cell_type": "code",
   "execution_count": 750,
   "metadata": {},
   "outputs": [],
   "source": [
    "puzzle_df = pd.read_csv('./puzzle_meta_data.csv')\n",
    "puzzle_df['puzzle_id'] = puzzle_df['puzzle_id'].astype(int)\n",
    "puzzle_df['row_data'] = None\n",
    "puzzle_df['col_data'] = None\n",
    "puzzle_df.set_index('puzzle_id', inplace=True)"
   ]
  },
  {
   "cell_type": "markdown",
   "metadata": {},
   "source": [
    "##### Fill meta data with the puzzle data"
   ]
  },
  {
   "cell_type": "code",
   "execution_count": 793,
   "metadata": {},
   "outputs": [
    {
     "ename": "AssertionError",
     "evalue": "You already have the puzzle full-data.",
     "output_type": "error",
     "traceback": [
      "\u001b[0;31m---------------------------------------------------------------------------\u001b[0m",
      "\u001b[0;31mAssertionError\u001b[0m                            Traceback (most recent call last)",
      "\u001b[0;32m<ipython-input-793-cc6601932b35>\u001b[0m in \u001b[0;36m<module>\u001b[0;34m\u001b[0m\n\u001b[0;32m----> 1\u001b[0;31m \u001b[0;32massert\u001b[0m \u001b[0;32mnot\u001b[0m \u001b[0mos\u001b[0m\u001b[0;34m.\u001b[0m\u001b[0mpath\u001b[0m\u001b[0;34m.\u001b[0m\u001b[0mexists\u001b[0m\u001b[0;34m(\u001b[0m\u001b[0;34m'./puzzle_full_data.csv'\u001b[0m\u001b[0;34m)\u001b[0m\u001b[0;34m,\u001b[0m \u001b[0;34m'You already have the puzzle full-data.'\u001b[0m\u001b[0;34m\u001b[0m\u001b[0;34m\u001b[0m\u001b[0m\n\u001b[0m\u001b[1;32m      2\u001b[0m \u001b[0;34m\u001b[0m\u001b[0m\n\u001b[1;32m      3\u001b[0m \u001b[0;32mfor\u001b[0m \u001b[0mpuzzle_id\u001b[0m \u001b[0;32min\u001b[0m \u001b[0mtqdm\u001b[0m\u001b[0;34m(\u001b[0m\u001b[0mpuzzle_df\u001b[0m\u001b[0;34m.\u001b[0m\u001b[0mindex\u001b[0m\u001b[0;34m)\u001b[0m\u001b[0;34m:\u001b[0m\u001b[0;34m\u001b[0m\u001b[0;34m\u001b[0m\u001b[0m\n\u001b[1;32m      4\u001b[0m     \u001b[0;32mif\u001b[0m \u001b[0mpd\u001b[0m\u001b[0;34m.\u001b[0m\u001b[0mnotna\u001b[0m\u001b[0;34m(\u001b[0m\u001b[0mpuzzle_df\u001b[0m\u001b[0;34m.\u001b[0m\u001b[0mloc\u001b[0m\u001b[0;34m[\u001b[0m\u001b[0mpuzzle_id\u001b[0m\u001b[0;34m,\u001b[0m \u001b[0;34m[\u001b[0m\u001b[0;34m'row_data'\u001b[0m\u001b[0;34m,\u001b[0m \u001b[0;34m'col_data'\u001b[0m\u001b[0;34m]\u001b[0m\u001b[0;34m]\u001b[0m\u001b[0;34m)\u001b[0m\u001b[0;34m.\u001b[0m\u001b[0mall\u001b[0m\u001b[0;34m(\u001b[0m\u001b[0;34m)\u001b[0m\u001b[0;34m:\u001b[0m\u001b[0;34m\u001b[0m\u001b[0;34m\u001b[0m\u001b[0m\n\u001b[1;32m      5\u001b[0m         \u001b[0;32mcontinue\u001b[0m\u001b[0;34m\u001b[0m\u001b[0;34m\u001b[0m\u001b[0m\n",
      "\u001b[0;31mAssertionError\u001b[0m: You already have the puzzle full-data."
     ]
    }
   ],
   "source": [
    "assert not os.path.exists('./puzzle_full_data.csv'), 'You already have the puzzle full-data.'\n",
    "\n",
    "for puzzle_id in tqdm(puzzle_df.index):\n",
    "    if pd.notna(puzzle_df.loc[puzzle_id, ['row_data', 'col_data']]).all():\n",
    "        continue\n",
    "    try:\n",
    "        row_data, col_data = get_data_from_puzzle_id(puzzle_id)\n",
    "        puzzle_df.at[puzzle_id, 'row_data'] = row_data\n",
    "        puzzle_df.at[puzzle_id, 'col_data'] = col_data\n",
    "    except:\n",
    "        print(f'error at puzzle: {puzzle_id}')\n",
    "puzzle_df.to_csv('./puzzle_full_data.csv')"
   ]
  }
 ],
 "metadata": {
  "kernelspec": {
   "display_name": "Python 3",
   "language": "python",
   "name": "python3"
  },
  "language_info": {
   "codemirror_mode": {
    "name": "ipython",
    "version": 3
   },
   "file_extension": ".py",
   "mimetype": "text/x-python",
   "name": "python",
   "nbconvert_exporter": "python",
   "pygments_lexer": "ipython3",
   "version": "3.7.6"
  }
 },
 "nbformat": 4,
 "nbformat_minor": 4
}
