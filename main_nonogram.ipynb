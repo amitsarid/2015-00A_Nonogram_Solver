{
 "cells": [
  {
   "cell_type": "markdown",
   "metadata": {},
   "source": [
    "# Introduction\n",
    "- **Nonogram Solver** - Started sometime in 2014.\n",
    "- The goal of this project is to  build an algorithm that solves nonogram puzzles. \n",
    "- Relevant links:\n",
    "    - What is a Nonogram? - [Wikipedia](https://en.wikipedia.org/wiki/Nonogram)\n",
    "    - Source of puzzles - [onlinenonograms.com](https://onlinenonograms.com)\n",
    "<br><br><a id=\"contents\"></a>\n",
    "- #### Table of contents:\n",
    "    1. [Imports](#20200920123112)\n",
    "    1. [Lib demo](#20200920123334)\n",
    "    1. [Nonogram Solver](#20200920123426)\n"
   ]
  },
  {
   "cell_type": "markdown",
   "metadata": {},
   "source": [
    "<a id=\"20200920123112\"></a>\n",
    "# Imports\n",
    "<!-- 1. [Imports](#20200920123112) -->\n",
    "[Table of contents](#contents)"
   ]
  },
  {
   "cell_type": "code",
   "execution_count": 1,
   "metadata": {},
   "outputs": [],
   "source": [
    "import numpy as np\n",
    "import pandas as pd\n",
    "import matplotlib.pyplot as plt\n",
    "from datetime import datetime\n",
    "from tqdm.notebook import tqdm\n",
    "import time\n",
    "import ast"
   ]
  },
  {
   "cell_type": "code",
   "execution_count": 2,
   "metadata": {},
   "outputs": [],
   "source": [
    "from nonogram import propagate_nonogram_vector, propagate_board, find_nonogram_options_matrix"
   ]
  },
  {
   "cell_type": "markdown",
   "metadata": {},
   "source": [
    "<a id=\"20200920123334\"></a>\n",
    "# Lib demo\n",
    "<!-- 1. [Lib demo](#20200920123334) -->\n",
    "[Table of contents](#contents)"
   ]
  },
  {
   "cell_type": "code",
   "execution_count": 3,
   "metadata": {},
   "outputs": [],
   "source": [
    "# propagate_nonogram_vector(-np.ones((1, 5)), [1, 3])\n",
    "# print(all_possible_vectors(10, 3, fast=False))\n",
    "# print(all_possible_vectors(10, 3, fast=True))"
   ]
  },
  {
   "cell_type": "markdown",
   "metadata": {},
   "source": [
    "<a id=\"20200920123426\"></a>\n",
    "# Nonogram Solver\n",
    "<!-- 1. [Nonogram Solver](#20200920123426) -->\n",
    "[Table of contents](#contents)"
   ]
  },
  {
   "cell_type": "code",
   "execution_count": 4,
   "metadata": {},
   "outputs": [],
   "source": [
    "puzzle_df = pd.read_csv('./puzzle_full_data.csv').dropna()"
   ]
  },
  {
   "cell_type": "code",
   "execution_count": 5,
   "metadata": {},
   "outputs": [
    {
     "data": {
      "text/plain": [
       "20x20    2.40\n",
       "35x45    2.19\n",
       "45x45    1.89\n",
       "Name: size, dtype: float64"
      ]
     },
     "execution_count": 5,
     "metadata": {},
     "output_type": "execute_result"
    }
   ],
   "source": [
    "puzzle_df['size'].value_counts(normalize=True).mul(100).round(2).head(3)"
   ]
  },
  {
   "cell_type": "code",
   "execution_count": null,
   "metadata": {},
   "outputs": [],
   "source": []
  },
  {
   "cell_type": "code",
   "execution_count": 15,
   "metadata": {},
   "outputs": [],
   "source": [
    "random_puzzle = puzzle_df.loc[(puzzle_df['size'] == '20x20') & (puzzle_df['rating'] >= 4)].sample(1).iloc[0]\n",
    "random_puzzle = puzzle_df.loc[puzzle_df['puzzle_id'] == 5965].iloc[0]\n",
    "board_rows, board_cols = random_puzzle[['row_data', 'col_data']].apply(ast.literal_eval)\n",
    "row_num, col_num = len(board_rows), len(board_cols)\n",
    "\n",
    "assert np.sum(np.sum(board_rows)) == np.sum(np.sum(board_cols)), print(np.sum(np.sum(board_rows)), np.sum(np.sum(board_cols)))\n",
    "assert len(board_rows) == len(board_rows)"
   ]
  },
  {
   "cell_type": "markdown",
   "metadata": {},
   "source": [
    "especially difficult puzzles were:\n",
    "* 9520 was so big it didn't finish all night and kernel restarted. Would have to make improvements to solve such big (over 50 rows) puzzles in reasonable time.\n",
    "\n",
    "especially cute puzzles were:\n",
    "* Miny mouse, 5965\n",
    "* Cat 2204\n",
    "* Camera 2685"
   ]
  },
  {
   "cell_type": "code",
   "execution_count": 17,
   "metadata": {},
   "outputs": [
    {
     "name": "stdout",
     "output_type": "stream",
     "text": [
      "Solving puzzle 5965 which is 40x30\n",
      "Phase 1/3\n"
     ]
    },
    {
     "data": {
      "application/vnd.jupyter.widget-view+json": {
       "model_id": "c2b2183d607e4aa5b5d71fe16202e0a5",
       "version_major": 2,
       "version_minor": 0
      },
      "text/plain": [
       "HBox(children=(FloatProgress(value=0.0, max=30.0), HTML(value='')))"
      ]
     },
     "metadata": {},
     "output_type": "display_data"
    },
    {
     "name": "stdout",
     "output_type": "stream",
     "text": [
      "\n",
      "Phase 2/3\n"
     ]
    },
    {
     "data": {
      "application/vnd.jupyter.widget-view+json": {
       "model_id": "e31fd6733d9c4fd793ff8c8e51cb62eb",
       "version_major": 2,
       "version_minor": 0
      },
      "text/plain": [
       "HBox(children=(FloatProgress(value=0.0, max=40.0), HTML(value='')))"
      ]
     },
     "metadata": {},
     "output_type": "display_data"
    },
    {
     "name": "stdout",
     "output_type": "stream",
     "text": [
      "\n",
      "Considering around 1E255 board configurations\n",
      "Phase 3/3\n",
      "Iteration 0\t - 100.0% of board left\n",
      "Iteration 1\t - 93.0% of board left\n",
      "Iteration 2\t - 86.25% of board left\n",
      "Iteration 3\t - 73.5% of board left\n",
      "Iteration 4\t - 56.17% of board left\n",
      "Iteration 5\t - 48.83% of board left\n",
      "Iteration 6\t - 43.75% of board left\n",
      "Iteration 7\t - 40.42% of board left\n",
      "Iteration 8\t - 38.25% of board left\n",
      "Iteration 9\t - 35.17% of board left\n",
      "Iteration 10\t - 33.67% of board left\n",
      "Iteration 11\t - 32.75% of board left\n",
      "Iteration 12\t - 30.08% of board left\n",
      "Iteration 13\t - 28.08% of board left\n",
      "Iteration 14\t - 26.17% of board left\n",
      "Iteration 15\t - 23.0% of board left\n",
      "Iteration 16\t - 20.75% of board left\n",
      "Iteration 17\t - 19.67% of board left\n",
      "Iteration 18\t - 19.0% of board left\n",
      "Iteration 19\t - 18.58% of board left\n",
      "Iteration 20\t - 18.25% of board left\n",
      "Iteration 21\t - 17.92% of board left\n",
      "Iteration 22\t - 17.33% of board left\n",
      "Iteration 23\t - 16.58% of board left\n",
      "Iteration 24\t - 12.25% of board left\n",
      "Iteration 25\t - 9.167% of board left\n",
      "Iteration 26\t - 6.25% of board left\n",
      "Iteration 27\t - 2.25% of board left\n",
      "Iteration 28\t - 1.0% of board left\n",
      "Iteration 29\t - 0.5% of board left\n",
      "Iteration 30\t - 0.0% of board left\n"
     ]
    },
    {
     "data": {
      "image/png": "[encoded data removed]",
      "text/plain": [
       "<Figure size 432x288 with 2 Axes>"
      ]
     },
     "metadata": {
      "needs_background": "light"
     },
     "output_type": "display_data"
    },
    {
     "name": "stdout",
     "output_type": "stream",
     "text": [
      "Took 43 seconds\n"
     ]
    }
   ],
   "source": [
    "started = int(time.time())\n",
    "options_dict_r = {}\n",
    "options_dict_c = {}\n",
    "print(f\"Solving puzzle {random_puzzle['puzzle_id']} which is {random_puzzle['size']}\")\n",
    "print('Phase 1/3')\n",
    "for i in tqdm(range(row_num)):\n",
    "    options_dict_r[i] = find_nonogram_options_matrix(col_num, board_rows[i])\n",
    "print('Phase 2/3')\n",
    "for i in tqdm(range(col_num)):\n",
    "    options_dict_c[i] = find_nonogram_options_matrix(row_num, board_cols[i])\n",
    "\n",
    "print(f'Considering around 1E',\n",
    "      int(np.round(np.sum(np.log10([option.shape[0] for _, option in options_dict_r.items()])) + np.sum(np.log10([option.shape[0] for _, option in options_dict_c.items()])))), \n",
    "      ' board configurations', \n",
    "      sep='')\n",
    "\n",
    "print('Phase 3/3')\n",
    "board_mat = -np.ones(shape=(row_num, col_num))\n",
    "board_mat, _, options_dict_r, options_dict_c = propagate_board(board_mat, options_dict_r, options_dict_c, verbose=True)\n",
    "\n",
    "# print(np.sum((board_mat == -1)))\n",
    "\n",
    "# board_mat\n",
    "if board_mat is not None:\n",
    "    plt.imshow(board_mat)\n",
    "    plt.colorbar()\n",
    "    plt.show()\n",
    "    \n",
    "print(f'Took {int(time.time()) - started} seconds')"
   ]
  },
  {
   "cell_type": "code",
   "execution_count": 8,
   "metadata": {},
   "outputs": [],
   "source": [
    "# vector_matrix_congruence(board_mat[0, :], options_dict_r[0])\n",
    "# vector_matrix_congruence(board_mat[2, :], options_dict_r[2])"
   ]
  },
  {
   "cell_type": "code",
   "execution_count": 9,
   "metadata": {},
   "outputs": [],
   "source": [
    "# print([option.shape[0] for _, option in options_dict_r.items()])\n",
    "# print([option.shape[0] for _, option in options_dict_c.items()])"
   ]
  },
  {
   "cell_type": "markdown",
   "metadata": {},
   "source": [
    "**Ideas for improvement:**\n",
    "- Most of the run time is for creating the options dictionary. It might be possible to estimate the number of options per row/column and skip the difficult ones. The difficults ones are not likely to produce any value anyway. Then we can solve the difficult ones later on, but we'd have to develop an algorithm for finding the optional vectors with some existing knowledge. \n",
    "- It is actually very possilbe since find_vecs_that_sum is so fast and what takes long is the permutations. Once we know the first or last space the number of space vectors is greately reduced and so is the number of permutations."
   ]
  }
 ],
 "metadata": {
  "kernelspec": {
   "display_name": "Python 3",
   "language": "python",
   "name": "python3"
  },
  "language_info": {
   "codemirror_mode": {
    "name": "ipython",
    "version": 3
   },
   "file_extension": ".py",
   "mimetype": "text/x-python",
   "name": "python",
   "nbconvert_exporter": "python",
   "pygments_lexer": "ipython3",
   "version": "3.7.6"
  }
 },
 "nbformat": 4,
 "nbformat_minor": 4
}
